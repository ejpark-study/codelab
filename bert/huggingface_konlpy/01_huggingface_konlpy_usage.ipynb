{
 "cells": [
  {
   "cell_type": "markdown",
   "metadata": {
    "colab_type": "text",
    "id": "view-in-github"
   },
   "source": [
    "<a href=\"https://colab.research.google.com/github/ejpark78/codelab/blob/master/bert/huggingface_konlpy/01_huggingface_konlpy_usage.ipynb\" target=\"_parent\"><img src=\"https://colab.research.google.com/assets/colab-badge.svg\" alt=\"Open In Colab\"/></a>"
   ]
  },
  {
   "cell_type": "markdown",
   "metadata": {
    "id": "1eKukE2CvtTU"
   },
   "source": [
    "출처: https://github.com/lovit/huggingface_konlpy/blob/master/tutorials/01_huggingface_konlpy_usage.ipynb"
   ]
  },
  {
   "cell_type": "markdown",
   "metadata": {
    "id": "ugt8WRk3u7ny"
   },
   "source": [
    "## KoNLPy as pre-tokenizer"
   ]
  },
  {
   "cell_type": "code",
   "execution_count": 2,
   "metadata": {
    "id": "RiG78bWJu7n0",
    "outputId": "34c74434-67df-44d3-d725-4bc531cec0de"
   },
   "outputs": [
    {
     "name": "stdout",
     "output_type": "stream",
     "text": [
      "신종 코로나바이러스 감염증 ( 코로나 19 ) 사태 가 심각 하 ㅂ니다\n"
     ]
    }
   ],
   "source": [
    "from huggingface_konlpy.tokenizers_konlpy import KoNLPyPreTokenizer\n",
    "from konlpy.tag import Komoran\n",
    "\n",
    "sent_ko = '신종 코로나바이러스 감염증(코로나19) 사태가 심각합니다'\n",
    "komoran_pretok = KoNLPyPreTokenizer(Komoran())\n",
    "\n",
    "print(komoran_pretok(sent_ko))"
   ]
  },
  {
   "cell_type": "code",
   "execution_count": 3,
   "metadata": {},
   "outputs": [],
   "source": [
    "!mkdir -p ./model/KomoranBertWordPieceTokenizer/"
   ]
  },
  {
   "cell_type": "code",
   "execution_count": 4,
   "metadata": {
    "id": "EIK8WuNBu7n7"
   },
   "outputs": [],
   "source": [
    "from huggingface_konlpy.tokenizers_konlpy import KoNLPyPretokBertWordPieceTokenizer\n",
    "from huggingface_konlpy.transformers_konlpy import KoNLPyPretokBertTokenizer\n",
    "\n",
    "\n",
    "komoran_bertwordpiece_tokenizer = KoNLPyPretokBertWordPieceTokenizer(\n",
    "    konlpy_pretok = komoran_pretok)\n",
    "\n",
    "komoran_bertwordpiece_tokenizer.train(\n",
    "    files = ['./data/2020-07-29_covid_news_sents.txt'],\n",
    "    vocab_size = 3000)\n",
    "\n",
    "komoran_bertwordpiece_tokenizer.save_model(\n",
    "    directory='./model/KomoranBertWordPieceTokenizer/',\n",
    "    name='covid')\n",
    "\n",
    "komoran_pretok_berttokenizer = KoNLPyPretokBertTokenizer(\n",
    "    konlpy_pretok = komoran_pretok,\n",
    "    vocab_file = './model/KomoranBertWordPieceTokenizer/covid-vocab.txt')"
   ]
  },
  {
   "cell_type": "code",
   "execution_count": 5,
   "metadata": {
    "id": "PdcklKzzu7oM",
    "outputId": "d334a162-6576-4eb6-de4c-df0257f42f93"
   },
   "outputs": [
    {
     "name": "stdout",
     "output_type": "stream",
     "text": [
      "[CLS] 신종 코로나바이러스 감염증 ( 코로나 19 ) 사태 가 심 ##각 하 [UNK] [SEP]\n"
     ]
    }
   ],
   "source": [
    "from huggingface_konlpy import compose\n",
    "\n",
    "indices = komoran_pretok_berttokenizer.encode(sent_ko)\n",
    "tokens = [komoran_pretok_berttokenizer.ids_to_tokens[ids] for ids in indices]\n",
    "\n",
    "print(' '.join(compose(tokens)))"
   ]
  },
  {
   "cell_type": "markdown",
   "metadata": {
    "id": "CwWF8UKSu7oU"
   },
   "source": [
    "## KoNLPy WordPiece Tokenizer\n",
    "\n",
    "### with tag"
   ]
  },
  {
   "cell_type": "code",
   "execution_count": 6,
   "metadata": {
    "id": "5Vn-jf4Nu7oW",
    "outputId": "09a985d5-3a1f-454f-c1f1-6145ee39c247"
   },
   "outputs": [
    {
     "name": "stdout",
     "output_type": "stream",
     "text": [
      "신종 코로나 ##바이러스 감염증 ##( ##코로나 ##19 ##) 사태 ##가 심각 ##합니다\n"
     ]
    }
   ],
   "source": [
    "from huggingface_konlpy.tokenizers_konlpy import KoNLPyWordPieceTokenizer\n",
    "from konlpy.tag import Mecab\n",
    "\n",
    "mecab_wordpiece_notag = KoNLPyWordPieceTokenizer(Mecab(), use_tag=False)\n",
    "print(' '.join(mecab_wordpiece_notag.tokenize(sent_ko)))"
   ]
  },
  {
   "cell_type": "code",
   "execution_count": 7,
   "metadata": {
    "id": "d05R3bIau7oe",
    "outputId": "f84723ce-d2a6-4944-d59b-e9b208d77bf5"
   },
   "outputs": [
    {
     "name": "stdout",
     "output_type": "stream",
     "text": [
      "신종/NNG 코로나/NNP ##바이러스/NNG 감염증/NNG ##(/SSO ##코로나/NNP ##19/SN ##)/SSC 사태/NNG ##가/JKS 심각/XR ##합니다/XSA+EC\n"
     ]
    }
   ],
   "source": [
    "mecab_wordpiece_usetag = KoNLPyWordPieceTokenizer(Mecab(), use_tag=True)\n",
    "print(' '.join(mecab_wordpiece_usetag.tokenize(sent_ko)))"
   ]
  },
  {
   "cell_type": "code",
   "execution_count": 8,
   "metadata": {
    "id": "ygjBmSiZu7ov",
    "outputId": "69ec8ed2-63b4-4502-8ede-65c7d681043e"
   },
   "outputs": [
    {
     "name": "stderr",
     "output_type": "stream",
     "text": [
      "Initialize alphabet 1/1: 100%|██████████| 70964/70964 [00:00<00:00, 98441.64it/s]\n",
      "Train vocab 1/1: 100%|██████████| 70964/70964 [00:10<00:00, 6504.49it/s]\n"
     ]
    },
    {
     "name": "stdout",
     "output_type": "stream",
     "text": [
      "[/home/jovyan/bert/huggingface_konlpy/model/BertStyleMecab/notag-vocab.txt]\n"
     ]
    }
   ],
   "source": [
    "from huggingface_konlpy.tokenizers_konlpy import KoNLPyBertWordPieceTrainer\n",
    "\n",
    "mecab_wordpiece_notag_trainer = KoNLPyBertWordPieceTrainer(Mecab(), use_tag=False)\n",
    "\n",
    "mecab_wordpiece_notag_trainer.train(files=['./data/2020-07-29_covid_news_sents.txt'])\n",
    "\n",
    "mecab_wordpiece_notag_trainer.save_model('./model/BertStyleMecab/', 'notag')"
   ]
  },
  {
   "cell_type": "code",
   "execution_count": 9,
   "metadata": {
    "id": "zxHnkRYGu7o5",
    "outputId": "7971f538-e4d0-49d0-be9e-9d91cad70a59"
   },
   "outputs": [
    {
     "name": "stdout",
     "output_type": "stream",
     "text": [
      "신종 코로나 ##바이러스 감염증 ##( ##코로나 ##19 ##) 사태 ##가 심각 ##합니다\n"
     ]
    }
   ],
   "source": [
    "from huggingface_konlpy.transformers_konlpy import KoNLPyBertTokenizer\n",
    "\n",
    "konlpy_bert_notag = KoNLPyBertTokenizer(\n",
    "    konlpy_wordpiece = KoNLPyWordPieceTokenizer(Mecab(), use_tag=False),\n",
    "    vocab_file = './model/BertStyleMecab/notag-vocab.txt'\n",
    ")\n",
    "\n",
    "print(' '.join(konlpy_bert_notag.tokenize(sent_ko)))"
   ]
  },
  {
   "cell_type": "code",
   "execution_count": 10,
   "metadata": {
    "id": "uspgKumNu7pC",
    "outputId": "50a3b9f5-18d4-4a3e-a74a-2a2db5b7a590"
   },
   "outputs": [
    {
     "name": "stderr",
     "output_type": "stream",
     "text": [
      "Initialize alphabet 1/1: 100%|██████████| 70964/70964 [00:00<00:00, 105826.48it/s]\n",
      "Train vocab 1/1: 100%|██████████| 70964/70964 [00:10<00:00, 6705.41it/s]\n"
     ]
    },
    {
     "name": "stdout",
     "output_type": "stream",
     "text": [
      "[/home/jovyan/bert/huggingface_konlpy/model/BertStyleMecab/usetag-vocab.txt]\n",
      "[CLS] 신종/NNG 코로나/NNP ##바이러스/NNG 감염증/NNG ##(/SSO ##코로나/NNP ##19/SN ##)/SSC 사태/NNG ##가/JKS 심각/XR 합 니 다 [SEP]\n"
     ]
    }
   ],
   "source": [
    "mecab_wordpiece_usetag_trainer = KoNLPyBertWordPieceTrainer(Mecab(), use_tag=True)\n",
    "\n",
    "mecab_wordpiece_usetag_trainer.train(files=['./data/2020-07-29_covid_news_sents.txt'])\n",
    "mecab_wordpiece_usetag_trainer.save_model('./model/BertStyleMecab/', 'usetag')\n",
    "\n",
    "konlpy_bert_usetag = KoNLPyBertTokenizer(\n",
    "    konlpy_wordpiece = KoNLPyWordPieceTokenizer(Mecab(), use_tag=True),\n",
    "    vocab_file = './model/BertStyleMecab/usetag-vocab.txt'\n",
    ")\n",
    "\n",
    "indices = konlpy_bert_usetag.encode(sent_ko)\n",
    "tokens = [konlpy_bert_usetag.ids_to_tokens[ids] for ids in indices]\n",
    "\n",
    "print(' '.join(compose(tokens)))"
   ]
  },
  {
   "cell_type": "code",
   "execution_count": null,
   "metadata": {
    "id": "KwUr1nGQu7pI"
   },
   "outputs": [],
   "source": []
  }
 ],
 "metadata": {
  "colab": {
   "collapsed_sections": [],
   "include_colab_link": true,
   "name": "01_huggingface_konlpy_usage.ipynb",
   "provenance": []
  },
  "kernelspec": {
   "display_name": "Python 3",
   "language": "python",
   "name": "python3"
  },
  "language_info": {
   "codemirror_mode": {
    "name": "ipython",
    "version": 3
   },
   "file_extension": ".py",
   "mimetype": "text/x-python",
   "name": "python",
   "nbconvert_exporter": "python",
   "pygments_lexer": "ipython3",
   "version": "3.6.9"
  }
 },
 "nbformat": 4,
 "nbformat_minor": 1
}
